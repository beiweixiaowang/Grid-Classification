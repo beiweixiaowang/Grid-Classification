{
 "cells": [
  {
   "cell_type": "code",
   "execution_count": 1,
   "metadata": {
    "collapsed": true
   },
   "outputs": [],
   "source": [
    "import pandas as pd\n",
    "import numpy as np\n",
    "import warnings\n",
    "warnings.simplefilter(\"ignore\")\n",
    "from simpletransformers.classification import ClassificationModel, ClassificationArgs\n",
    "from sklearn.metrics import *\n",
    "from sklearn.model_selection import *\n",
    "import random\n",
    "import torch\n",
    "pd.options.display.max_colwidth = 200"
   ]
  },
  {
   "cell_type": "code",
   "execution_count": 2,
   "outputs": [],
   "source": [
    "class Args:\n",
    "    model_name = 'bert'\n",
    "    model_path = 'hfl/chinese-bert-wwm-ext'\n",
    "    n_fold = 5\n",
    "    seed = 42\n",
    "    batch_size = 2\n",
    "    learning_rate = 4e-5\n",
    "    max_len = 256\n",
    "    nums_labels = 25\n",
    "    epochs = 10\n",
    "    weight_decay = 0.01\n",
    "    warmup_ratio = 0.1\n",
    "    warmup_steps = 0"
   ],
   "metadata": {
    "collapsed": false,
    "pycharm": {
     "name": "#%%\n"
    }
   }
  },
  {
   "cell_type": "code",
   "execution_count": 3,
   "outputs": [],
   "source": [
    "def seed_all(seed_value):\n",
    "    random.seed(seed_value)  # Python\n",
    "    np.random.seed(seed_value)  # cpu vars\n",
    "    torch.manual_seed(seed_value)  # cpu  vars\n",
    "\n",
    "    if torch.cuda.is_available():\n",
    "        torch.cuda.manual_seed(seed_value)\n",
    "        torch.cuda.manual_seed_all(seed_value)  # gpu vars\n",
    "        torch.backends.cudnn.deterministic = True  # needed\n",
    "        torch.backends.cudnn.benchmark = False"
   ],
   "metadata": {
    "collapsed": false,
    "pycharm": {
     "name": "#%%\n"
    }
   }
  },
  {
   "cell_type": "code",
   "execution_count": 4,
   "outputs": [],
   "source": [
    "def concat_text(row):\n",
    "    return str(row['name']) + ', ' + row['content']\n",
    "\n",
    "\n",
    "def process_data(data):\n",
    "    data.fillna(\"无内容\", inplace=True)\n",
    "    data['text'] = data.apply(lambda row: concat_text(row), axis=1)\n",
    "    return data\n",
    "\n",
    "\n",
    "def f1_multiclass(labels, preds):\n",
    "    return f1_score(labels, preds, average='micro')"
   ],
   "metadata": {
    "collapsed": false,
    "pycharm": {
     "name": "#%%\n"
    }
   }
  },
  {
   "cell_type": "code",
   "execution_count": 5,
   "outputs": [],
   "source": [
    "def train_model(args, train, test):\n",
    "    err = []\n",
    "    acc = []\n",
    "    y_pred_tot = []\n",
    "    # id_list = test['id'].tolists()\n",
    "\n",
    "    train_data = train[['text', 'label']]\n",
    "    test_data = test[['text']]\n",
    "\n",
    "    fold = StratifiedKFold(n_splits=args.n_fold, shuffle=True, random_state=args.seed)\n",
    "    model_args = ClassificationArgs(num_train_epochs=args.epochs,\n",
    "                                    train_batch_size=args.batch_size,\n",
    "                                    reprocess_input_data=True,\n",
    "                                    overwrite_output_dir=True,\n",
    "                                    warmup_ratio=args.warmup_ratio,\n",
    "                                    warmup_steps=args.warmup_steps,\n",
    "                                    weight_decay=args.weight_decay,\n",
    "                                    save_model_every_epoch=False,\n",
    "                                    save_eval_checkpoints=False\n",
    "                                    )\n",
    "    for train_index, test_index in fold.split(train_data, train_data['label']):\n",
    "        train_trn, train_val = train_data.iloc[train_index], train_data.iloc[test_index]\n",
    "        model = ClassificationModel(args.model_name, args.model_path, use_cuda=True,\n",
    "                                    num_labels=args.nums_labels, args=model_args)\n",
    "        model.train_model(train_trn)\n",
    "        result, raw_outputs_val, wrong_predictions = model.eval_model(train_val, acc=accuracy_score)\n",
    "        print(result)\n",
    "        err.append(result['eval_loss'])\n",
    "        acc.append(result['acc'])\n",
    "        raw_outputs_test = model.predict(test_data['text'].tolist())[1]\n",
    "        y_pred_tot.append(raw_outputs_test)\n",
    "    print(\"Mean LogLoss: \", np.mean(err))\n",
    "    print(\"Mean acc:\", np.mean(acc))\n",
    "    final = pd.DataFrame(np.mean(y_pred_tot, 0))\n",
    "    final.insert(0, 'id', test['id'].tolist())\n",
    "    print(final.shape)\n",
    "    return final"
   ],
   "metadata": {
    "collapsed": false,
    "pycharm": {
     "name": "#%%\n"
    }
   }
  },
  {
   "cell_type": "code",
   "execution_count": 6,
   "outputs": [],
   "source": [
    "def main():\n",
    "    Args.model_name = 'roberta'\n",
    "    Args.model_path = 'hfl/chinese-roberta-wwm-ext'\n",
    "    Args.seed = 2022\n",
    "    seed_all(Args.seed)\n",
    "    train = pd.read_csv(\"input/data/train.csv\")\n",
    "    test = pd.read_csv(\"input/data/testa_nolabel.csv\")\n",
    "    train = process_data(train)\n",
    "    test = process_data(test)\n",
    "    print(train.shape, test.shape)\n",
    "    result = train_model(Args, train, test)\n",
    "    print(result.shape)\n",
    "    result.to_csv(\"robert.csv\", index=False)"
   ],
   "metadata": {
    "collapsed": false,
    "pycharm": {
     "name": "#%%\n"
    }
   }
  },
  {
   "cell_type": "code",
   "execution_count": null,
   "outputs": [],
   "source": [
    "%%time\n",
    "main()"
   ],
   "metadata": {
    "collapsed": false,
    "pycharm": {
     "name": "#%%\n",
     "is_executing": true
    }
   }
  },
  {
   "cell_type": "markdown",
   "source": [],
   "metadata": {
    "collapsed": false,
    "pycharm": {
     "name": "#%% md\n"
    }
   }
  }
 ],
 "metadata": {
  "kernelspec": {
   "display_name": "Python 3",
   "language": "python",
   "name": "python3"
  },
  "language_info": {
   "codemirror_mode": {
    "name": "ipython",
    "version": 2
   },
   "file_extension": ".py",
   "mimetype": "text/x-python",
   "name": "python",
   "nbconvert_exporter": "python",
   "pygments_lexer": "ipython2",
   "version": "2.7.6"
  }
 },
 "nbformat": 4,
 "nbformat_minor": 0
}